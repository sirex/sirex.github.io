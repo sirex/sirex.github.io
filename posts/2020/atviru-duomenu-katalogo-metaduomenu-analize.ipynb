{
 "cells": [
  {
   "cell_type": "markdown",
   "metadata": {},
   "source": [
    "Europos atvirų duomenų portalas atsiuntė klausimyną, kurio pagalba vertins\n",
    "atvirų duomenų progresą Lietuvoje. Aš gavau užduotį paanalizuoti [Lietuvos\n",
    "atvirų duomenų katalogo](https://data.gov.lt/) (ADK) duomenis ir atsakyti į kai\n",
    "kuriuos klausimyno klausimus.\n",
    "\n",
    "ADK viešojo API dokumentacija pasiekiama šiuo adresu:\n",
    "\n",
    "https://data.gov.lt/public/api/1\n",
    "\n",
    "Dokumentacijoje nurodyta, kad ADK įgyvendina tik vieną API prieigos tašką:\n",
    "\n",
    "https://data.gov.lt/public/api/1/action/package_search\n",
    "\n",
    "Kuris kaip suprantu atitinka CKAN\n",
    "[package_search](https://docs.ckan.org/en/2.9/api/#ckan.logic.action.get.package_search),\n",
    "o pats CKAN po dangčiu naudoja\n",
    "[SOLR](https://lucene.apache.org/solr/guide/6_6/common-query-parameters.html).\n",
    "\n",
    "\n",
    "# Duomenų surinkimas (1 bandymas)\n",
    "\n",
    "Bandau žiūrėti ką grąžina API prieigos taškas:\n"
   ]
  },
  {
   "cell_type": "code",
   "execution_count": 41,
   "outputs": [
    {
     "name": "stdout",
     "output_type": "stream",
     "text": [
      "{\r\n",
      "    \u001B[94m\"help\"\u001B[39;49;00m: \u001B[33m\"https://data.gov.lt/public/api/1/action/help_show?name=package_search\"\u001B[39;49;00m,\r\n",
      "    \u001B[94m\"result\"\u001B[39;49;00m: {\r\n",
      "        \u001B[94m\"count\"\u001B[39;49;00m: \u001B[34m1\u001B[39;49;00m,\r\n",
      "        \u001B[94m\"results\"\u001B[39;49;00m: [\r\n",
      "            {\r\n",
      "                \u001B[94m\"author\"\u001B[39;49;00m: \u001B[33m\"\"\u001B[39;49;00m,\r\n",
      "                \u001B[94m\"authorEmail\"\u001B[39;49;00m: \u001B[33m\"\"\u001B[39;49;00m,\r\n",
      "                \u001B[94m\"creatorUserId\"\u001B[39;49;00m: \u001B[33m\"\"\u001B[39;49;00m,\r\n",
      "                \u001B[94m\"id\"\u001B[39;49;00m: \u001B[33m\"{24C009EF-BD65-1890-F505-D0FBB3C16F43}\"\u001B[39;49;00m,\r\n",
      "                \u001B[94m\"is_open\"\u001B[39;49;00m: \u001B[34mfalse\u001B[39;49;00m,\r\n",
      "                \u001B[94m\"metadata_created\"\u001B[39;49;00m: \u001B[33m\"2020-06-10T11:16:37\"\u001B[39;49;00m,\r\n",
      "                \u001B[94m\"metadata_modified\"\u001B[39;49;00m: \u001B[33m\"2020-08-05T13:00:54\"\u001B[39;49;00m,\r\n",
      "                \u001B[94m\"notes\"\u001B[39;49;00m: \u001B[33m\"Lietuvos nacionalinio atlaso žemėlapis - „Paros vidutinė oro temperatūra pakyla aukščiau ir nukrinta žemiau 0°C“. Autorius:A. Bukantis. Kartografas: G. Reginienė. Žemėlapis priklauso Nacionalinio atlaso skyriui - \\\"Gamta ir kraštovaizdis\\\", temai - \\\"Klimatas\\\"\"\u001B[39;49;00m,\r\n",
      "                \u001B[94m\"numResources\"\u001B[39;49;00m: \u001B[34m0\u001B[39;49;00m,\r\n",
      "                \u001B[94m\"numTags\"\u001B[39;49;00m: \u001B[34m0\u001B[39;49;00m,\r\n",
      "                \u001B[94m\"open\"\u001B[39;49;00m: \u001B[34mfalse\u001B[39;49;00m,\r\n",
      "                \u001B[94m\"private\"\u001B[39;49;00m: \u001B[34mfalse\u001B[39;49;00m,\r\n",
      "                \u001B[94m\"state\"\u001B[39;49;00m: \u001B[33m\"active\"\u001B[39;49;00m,\r\n",
      "                \u001B[94m\"title\"\u001B[39;49;00m: \u001B[33m\"WMS. Lietuvos nacionalinio atlaso žemėlapis - Paros vidutinė oro temperatūra pakyla aukščiau ir nukrinta žemiau 0°C\"\u001B[39;49;00m,\r\n",
      "                \u001B[94m\"type\"\u001B[39;49;00m: \u001B[33m\"dataset\"\u001B[39;49;00m,\r\n",
      "                \u001B[94m\"version\"\u001B[39;49;00m: \u001B[33m\"1\"\u001B[39;49;00m\r\n",
      "            }\r\n",
      "        ],\r\n",
      "        \u001B[94m\"sort\"\u001B[39;49;00m: \u001B[33m\"relevance asc, metadata_modified desc\"\u001B[39;49;00m\r\n",
      "    },\r\n",
      "    \u001B[94m\"success\"\u001B[39;49;00m: \u001B[34mtrue\u001B[39;49;00m\r\n",
      "}\r\n",
      "\r\n"
     ]
    }
   ],
   "source": [
    "!http -b 'https://data.gov.lt/public/api/1/action/package_search?rows=1'"
   ],
   "metadata": {
    "collapsed": false,
    "pycharm": {
     "name": "#%%\n"
    }
   }
  },
  {
   "cell_type": "markdown",
   "source": [
    "Kaip suprantu, man reikia susirinkti visus puslapius ir sujungti juos į vieną\n",
    "didelį sąrašą. Kadangi portale yra mažiau nei 1000 duomenų rinkinių, tai visus\n",
    "rinkinius užsikrauti į RAM neturėtų būti problema."
   ],
   "metadata": {
    "collapsed": false
   }
  },
  {
   "cell_type": "code",
   "execution_count": 44,
   "outputs": [
    {
     "ename": "AssertionError",
     "evalue": "https://data.gov.lt/public/api/1/action/package_search?rows=50&start=250&sort=metadata_created",
     "output_type": "error",
     "traceback": [
      "\u001B[0;31m---------------------------------------------------------------------------\u001B[0m",
      "\u001B[0;31mAssertionError\u001B[0m                            Traceback (most recent call last)",
      "\u001B[0;32m<ipython-input-44-aa02cac1f045>\u001B[0m in \u001B[0;36m<module>\u001B[0;34m\u001B[0m\n\u001B[1;32m     11\u001B[0m         \u001B[0;34m'sort'\u001B[0m\u001B[0;34m:\u001B[0m \u001B[0;34m'metadata_created'\u001B[0m\u001B[0;34m,\u001B[0m\u001B[0;34m\u001B[0m\u001B[0;34m\u001B[0m\u001B[0m\n\u001B[1;32m     12\u001B[0m     })\n\u001B[0;32m---> 13\u001B[0;31m     \u001B[0;32massert\u001B[0m \u001B[0mresp\u001B[0m\u001B[0;34m.\u001B[0m\u001B[0mok\u001B[0m\u001B[0;34m,\u001B[0m \u001B[0mresp\u001B[0m\u001B[0;34m.\u001B[0m\u001B[0murl\u001B[0m\u001B[0;34m\u001B[0m\u001B[0;34m\u001B[0m\u001B[0m\n\u001B[0m\u001B[1;32m     14\u001B[0m     \u001B[0mresults\u001B[0m \u001B[0;34m=\u001B[0m \u001B[0mresp\u001B[0m\u001B[0;34m.\u001B[0m\u001B[0mjson\u001B[0m\u001B[0;34m(\u001B[0m\u001B[0;34m)\u001B[0m\u001B[0;34m[\u001B[0m\u001B[0;34m'result'\u001B[0m\u001B[0;34m]\u001B[0m\u001B[0;34m[\u001B[0m\u001B[0;34m'results'\u001B[0m\u001B[0;34m]\u001B[0m\u001B[0;34m\u001B[0m\u001B[0;34m\u001B[0m\u001B[0m\n\u001B[1;32m     15\u001B[0m     \u001B[0;32mif\u001B[0m \u001B[0mresults\u001B[0m\u001B[0;34m:\u001B[0m\u001B[0;34m\u001B[0m\u001B[0;34m\u001B[0m\u001B[0m\n",
      "\u001B[0;31mAssertionError\u001B[0m: https://data.gov.lt/public/api/1/action/package_search?rows=50&start=250&sort=metadata_created"
     ]
    }
   ],
   "source": [
    "import requests\n",
    "\n",
    "start: int = 0\n",
    "rows: int = 50\n",
    "datasets = []\n",
    "while True:\n",
    "    url = 'https://data.gov.lt/public/api/1/action/package_search'\n",
    "    resp = requests.get(url, params={\n",
    "        'rows': rows,\n",
    "        'start': start,\n",
    "        'sort': 'metadata_created',\n",
    "    })\n",
    "    assert resp.ok, resp.url\n",
    "    results = resp.json()['result']['results']\n",
    "    if results:\n",
    "        datasets += results\n",
    "        start += rows\n",
    "    else:\n",
    "        break"
   ],
   "metadata": {
    "collapsed": false,
    "pycharm": {
     "name": "#%%\n"
    }
   }
  },
  {
   "cell_type": "markdown",
   "source": [
    "O, pavyko gauti 500 klaidą, ir jokios informacijos apie tai, kas galėjo būti\n",
    "blogai.\n",
    "\n",
    "Gal reikia pabandyti pasiimti visus duomenis vienos užklausos pagalba?"
   ],
   "metadata": {
    "collapsed": false,
    "pycharm": {
     "name": "#%% md\n"
    }
   }
  },
  {
   "cell_type": "code",
   "execution_count": 42,
   "outputs": [
    {
     "ename": "AssertionError",
     "evalue": "",
     "output_type": "error",
     "traceback": [
      "\u001B[0;31m---------------------------------------------------------------------------\u001B[0m",
      "\u001B[0;31mAssertionError\u001B[0m                            Traceback (most recent call last)",
      "\u001B[0;32m<ipython-input-42-9df02160e4d9>\u001B[0m in \u001B[0;36m<module>\u001B[0;34m\u001B[0m\n\u001B[1;32m      2\u001B[0m     \u001B[0;34m'rows'\u001B[0m\u001B[0;34m:\u001B[0m \u001B[0;36m1000\u001B[0m\u001B[0;34m,\u001B[0m\u001B[0;34m\u001B[0m\u001B[0;34m\u001B[0m\u001B[0m\n\u001B[1;32m      3\u001B[0m })\n\u001B[0;32m----> 4\u001B[0;31m \u001B[0;32massert\u001B[0m \u001B[0mresp\u001B[0m\u001B[0;34m.\u001B[0m\u001B[0mok\u001B[0m\u001B[0;34m\u001B[0m\u001B[0;34m\u001B[0m\u001B[0m\n\u001B[0m\u001B[1;32m      5\u001B[0m \u001B[0;34m\u001B[0m\u001B[0m\n",
      "\u001B[0;31mAssertionError\u001B[0m: "
     ]
    }
   ],
   "source": [
    "resp = requests.get('https://data.gov.lt/public/api/1/action/package_search', {\n",
    "    'rows': 1000,\n",
    "})\n",
    "assert resp.ok"
   ],
   "metadata": {
    "collapsed": false,
    "pycharm": {
     "name": "#%%\n"
    }
   }
  },
  {
   "cell_type": "markdown",
   "source": [
    "Neveikia. Įdomu, kaip duomenis\n",
    "[susiimportavo](https://www.europeandataportal.eu/data/datasets?catalog=data-gov-lt)\n",
    "Europos atvirų duomenų portalas?"
   ],
   "metadata": {
    "collapsed": false,
    "pycharm": {
     "name": "#%% md\n"
    }
   }
  }
 ],
 "metadata": {
  "kernelspec": {
   "display_name": "Python 3",
   "env": {},
   "interrupt_mode": "signal",
   "language": "python",
   "metadata": {},
   "name": "python3"
  },
  "nikola": {
   "category": "",
   "date": "2020-10-28 10:12:22 UTC+02:00",
   "description": "",
   "link": "",
   "slug": "atviru-duomenu-katalogo-metaduomenu-analize",
   "tags": "",
   "title": "Atvirų duomenų katalogo metaduomenų analizė",
   "type": "text",
   "status": "draft"
  }
 },
 "nbformat": 4,
 "nbformat_minor": 4
}