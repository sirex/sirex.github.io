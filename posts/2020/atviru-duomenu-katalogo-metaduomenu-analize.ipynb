{
 "cells": [
  {
   "cell_type": "markdown",
   "metadata": {},
   "source": [
    "Europos atvirų duomenų portalas (EDP) atsiuntė klausimyną, kurio pagalba vertins\n",
    "atvirų duomenų progresą Lietuvoje. Aš gavau užduotį paanalizuoti [Lietuvos\n",
    "atvirų duomenų katalogo](https://data.gov.lt/) (ADK) duomenis ir atsakyti į kai\n",
    "kuriuos klausimyno klausimus.\n",
    "\n",
    "Įdomu, kodėl EDP pats nepasianalizuoja duomenų, kadangi data.gov.lt esantys\n",
    "duomenų rinkiniai yra atviri ir\n",
    "[suimportuoti](https://www.europeandataportal.eu/data/datasets?catalog=data-gov-lt)\n",
    "į EDP?\n",
    "\n",
    "ADK viešojo API [dokumentacija](https://data.gov.lt/public/api/1) rašo, kad API\n",
    "įgyvendina tik vieną API prieigos tašką\n",
    "[package_search](https://data.gov.lt/public/api/1/action/package_search). Kuris\n",
    "kaip suprantu atitinka CKAN\n",
    "[package_search](https://docs.ckan.org/en/2.9/api/#ckan.logic.action.get.package_search),\n",
    "o pats [CKAN](https://ckan.org/) po dangčiu naudoja\n",
    "[SOLR](https://lucene.apache.org/solr/guide/6_6/common-query-parameters.html).\n",
    "Kad suprasti kaip naudoti API reikėtų peržiūrėti visų trijų projektų\n",
    "dokumentacijas.\n",
    "\n",
    "\n",
    "# Duomenų surinkimas\n",
    "\n",
    "Bandau žiūrėti ką grąžina API prieigos taškas:"
   ]
  },
  {
   "cell_type": "code",
   "execution_count": 41,
   "outputs": [
    {
     "name": "stdout",
     "output_type": "stream",
     "text": [
      "{\r\n",
      "    \u001B[94m\"help\"\u001B[39;49;00m: \u001B[33m\"https://data.gov.lt/public/api/1/action/help_show?name=package_search\"\u001B[39;49;00m,\r\n",
      "    \u001B[94m\"result\"\u001B[39;49;00m: {\r\n",
      "        \u001B[94m\"count\"\u001B[39;49;00m: \u001B[34m1\u001B[39;49;00m,\r\n",
      "        \u001B[94m\"results\"\u001B[39;49;00m: [\r\n",
      "            {\r\n",
      "                \u001B[94m\"author\"\u001B[39;49;00m: \u001B[33m\"\"\u001B[39;49;00m,\r\n",
      "                \u001B[94m\"authorEmail\"\u001B[39;49;00m: \u001B[33m\"\"\u001B[39;49;00m,\r\n",
      "                \u001B[94m\"creatorUserId\"\u001B[39;49;00m: \u001B[33m\"\"\u001B[39;49;00m,\r\n",
      "                \u001B[94m\"id\"\u001B[39;49;00m: \u001B[33m\"{24C009EF-BD65-1890-F505-D0FBB3C16F43}\"\u001B[39;49;00m,\r\n",
      "                \u001B[94m\"is_open\"\u001B[39;49;00m: \u001B[34mfalse\u001B[39;49;00m,\r\n",
      "                \u001B[94m\"metadata_created\"\u001B[39;49;00m: \u001B[33m\"2020-06-10T11:16:37\"\u001B[39;49;00m,\r\n",
      "                \u001B[94m\"metadata_modified\"\u001B[39;49;00m: \u001B[33m\"2020-08-05T13:00:54\"\u001B[39;49;00m,\r\n",
      "                \u001B[94m\"notes\"\u001B[39;49;00m: \u001B[33m\"Lietuvos nacionalinio atlaso žemėlapis - „Paros vidutinė oro temperatūra pakyla aukščiau ir nukrinta žemiau 0°C“. Autorius:A. Bukantis. Kartografas: G. Reginienė. Žemėlapis priklauso Nacionalinio atlaso skyriui - \\\"Gamta ir kraštovaizdis\\\", temai - \\\"Klimatas\\\"\"\u001B[39;49;00m,\r\n",
      "                \u001B[94m\"numResources\"\u001B[39;49;00m: \u001B[34m0\u001B[39;49;00m,\r\n",
      "                \u001B[94m\"numTags\"\u001B[39;49;00m: \u001B[34m0\u001B[39;49;00m,\r\n",
      "                \u001B[94m\"open\"\u001B[39;49;00m: \u001B[34mfalse\u001B[39;49;00m,\r\n",
      "                \u001B[94m\"private\"\u001B[39;49;00m: \u001B[34mfalse\u001B[39;49;00m,\r\n",
      "                \u001B[94m\"state\"\u001B[39;49;00m: \u001B[33m\"active\"\u001B[39;49;00m,\r\n",
      "                \u001B[94m\"title\"\u001B[39;49;00m: \u001B[33m\"WMS. Lietuvos nacionalinio atlaso žemėlapis - Paros vidutinė oro temperatūra pakyla aukščiau ir nukrinta žemiau 0°C\"\u001B[39;49;00m,\r\n",
      "                \u001B[94m\"type\"\u001B[39;49;00m: \u001B[33m\"dataset\"\u001B[39;49;00m,\r\n",
      "                \u001B[94m\"version\"\u001B[39;49;00m: \u001B[33m\"1\"\u001B[39;49;00m\r\n",
      "            }\r\n",
      "        ],\r\n",
      "        \u001B[94m\"sort\"\u001B[39;49;00m: \u001B[33m\"relevance asc, metadata_modified desc\"\u001B[39;49;00m\r\n",
      "    },\r\n",
      "    \u001B[94m\"success\"\u001B[39;49;00m: \u001B[34mtrue\u001B[39;49;00m\r\n",
      "}\r\n",
      "\r\n"
     ]
    }
   ],
   "source": [
    "!http -b 'https://data.gov.lt/public/api/1/action/package_search?rows=1'"
   ],
   "metadata": {
    "collapsed": false,
    "pycharm": {
     "name": "#%%\n"
    }
   }
  },
  {
   "cell_type": "markdown",
   "source": [
    "Duomenų mažoka ir matosi, kad jei tam tikrų duomenų nėra, tai jie nėra\n",
    "įtraukti į atsakymą. Man nepatinka, kai API prieigos taškas grąžina duomenis,\n",
    "kuriuose dalykai tai atsiranda, tai pranyksta. Apsunkina duomenų interpretavimą.\n",
    "\n",
    "Dokumentacijoje paminėta, kad palaikomas puslapiavimas. Bandysiu pasinaudoti\n",
    "šia galimybe ir susirinkti visus duomenis nedideliais gabalais."
   ],
   "metadata": {
    "collapsed": false
   }
  },
  {
   "cell_type": "code",
   "execution_count": 52,
   "outputs": [],
   "source": [
    "import requests\n",
    "\n",
    "def get_datasets(ckan, start=0, rows=50):\n",
    "    start: int = 0\n",
    "    rows: int = 50\n",
    "    datasets = []\n",
    "    while True:\n",
    "        url = f'{ckan}/action/package_search'\n",
    "        resp = requests.get(url, params={\n",
    "            'rows': rows,\n",
    "            'start': start,\n",
    "        })\n",
    "        assert resp.ok, resp.url\n",
    "        results = resp.json()['result']['results']\n",
    "        if results:\n",
    "            datasets += results\n",
    "            start += rows\n",
    "        else:\n",
    "            break\n",
    "    return datasets\n",
    "\n",
    "datasets = get_datasets('https://data.gov.lt/public/api/1')"
   ],
   "metadata": {
    "collapsed": false,
    "pycharm": {
     "name": "#%%\n"
    }
   }
  },
  {
   "cell_type": "markdown",
   "source": [
    "Veikia, žiūrim ar duomenų rinkinių skaičius sutampa su tuo, kas rodoma\n",
    "data.gov.lt svetainėje."
   ],
   "metadata": {
    "collapsed": false,
    "pycharm": {
     "name": "#%% md\n"
    }
   }
  },
  {
   "cell_type": "code",
   "execution_count": 2,
   "outputs": [
    {
     "data": {
      "text/plain": "959"
     },
     "execution_count": 2,
     "metadata": {},
     "output_type": "execute_result"
    }
   ],
   "source": [
    "len(datasets)"
   ],
   "metadata": {
    "collapsed": false,
    "pycharm": {
     "name": "#%%\n"
    }
   }
  },
  {
   "cell_type": "markdown",
   "source": [
    "Sutampa. Kitas klausimas, kaip išsiaiškinti kokia yra duomenų\n",
    "schema? Bandau automatiškai gauti schema tikrinant kokie laukai naudojami\n",
    "visuose įrašuose:"
   ],
   "metadata": {
    "collapsed": false,
    "pycharm": {
     "name": "#%% md\n"
    }
   }
  },
  {
   "cell_type": "code",
   "execution_count": 42,
   "outputs": [
    {
     "ename": "TypeError",
     "evalue": "'NoneType' object is not iterable",
     "output_type": "error",
     "traceback": [
      "\u001B[0;31m---------------------------------------------------------------------------\u001B[0m",
      "\u001B[0;31mTypeError\u001B[0m                                 Traceback (most recent call last)",
      "\u001B[0;32m<ipython-input-42-0d0fbb2e8c67>\u001B[0m in \u001B[0;36m<module>\u001B[0;34m\u001B[0m\n\u001B[1;32m     15\u001B[0m     \u001B[0;32mreturn\u001B[0m \u001B[0mschema\u001B[0m\u001B[0;34m\u001B[0m\u001B[0;34m\u001B[0m\u001B[0m\n\u001B[1;32m     16\u001B[0m \u001B[0;34m\u001B[0m\u001B[0m\n\u001B[0;32m---> 17\u001B[0;31m \u001B[0mschema\u001B[0m \u001B[0;34m=\u001B[0m \u001B[0mget_schema\u001B[0m\u001B[0;34m(\u001B[0m\u001B[0mdatasets\u001B[0m\u001B[0;34m)\u001B[0m\u001B[0;34m\u001B[0m\u001B[0;34m\u001B[0m\u001B[0m\n\u001B[0m\u001B[1;32m     18\u001B[0m \u001B[0mprint\u001B[0m\u001B[0;34m(\u001B[0m\u001B[0;34m*\u001B[0m\u001B[0msorted\u001B[0m\u001B[0;34m(\u001B[0m\u001B[0mschema\u001B[0m\u001B[0;34m)\u001B[0m\u001B[0;34m,\u001B[0m \u001B[0msep\u001B[0m\u001B[0;34m=\u001B[0m\u001B[0;34m'\\n'\u001B[0m\u001B[0;34m)\u001B[0m\u001B[0;34m\u001B[0m\u001B[0;34m\u001B[0m\u001B[0m\n\u001B[1;32m     19\u001B[0m \u001B[0;34m\u001B[0m\u001B[0m\n",
      "\u001B[0;32m<ipython-input-42-0d0fbb2e8c67>\u001B[0m in \u001B[0;36mget_schema\u001B[0;34m(rows)\u001B[0m\n\u001B[1;32m     11\u001B[0m \u001B[0;32mdef\u001B[0m \u001B[0mget_schema\u001B[0m\u001B[0;34m(\u001B[0m\u001B[0mrows\u001B[0m\u001B[0;34m)\u001B[0m\u001B[0;34m:\u001B[0m\u001B[0;34m\u001B[0m\u001B[0;34m\u001B[0m\u001B[0m\n\u001B[1;32m     12\u001B[0m     \u001B[0mschema\u001B[0m \u001B[0;34m=\u001B[0m \u001B[0mset\u001B[0m\u001B[0;34m(\u001B[0m\u001B[0;34m)\u001B[0m\u001B[0;34m\u001B[0m\u001B[0;34m\u001B[0m\u001B[0m\n\u001B[0;32m---> 13\u001B[0;31m     \u001B[0;32mfor\u001B[0m \u001B[0mrow\u001B[0m \u001B[0;32min\u001B[0m \u001B[0mrows\u001B[0m\u001B[0;34m:\u001B[0m\u001B[0;34m\u001B[0m\u001B[0;34m\u001B[0m\u001B[0m\n\u001B[0m\u001B[1;32m     14\u001B[0m         \u001B[0mschema\u001B[0m\u001B[0;34m.\u001B[0m\u001B[0mupdate\u001B[0m\u001B[0;34m(\u001B[0m\u001B[0minspect\u001B[0m\u001B[0;34m(\u001B[0m\u001B[0mrow\u001B[0m\u001B[0;34m)\u001B[0m\u001B[0;34m)\u001B[0m\u001B[0;34m\u001B[0m\u001B[0;34m\u001B[0m\u001B[0m\n\u001B[1;32m     15\u001B[0m     \u001B[0;32mreturn\u001B[0m \u001B[0mschema\u001B[0m\u001B[0;34m\u001B[0m\u001B[0;34m\u001B[0m\u001B[0m\n",
      "\u001B[0;31mTypeError\u001B[0m: 'NoneType' object is not iterable"
     ]
    }
   ],
   "source": [
    "def inspect(value, keys=()):\n",
    "    if isinstance(value, dict):\n",
    "        for k, v in value.items():\n",
    "            yield from inspect(v, keys + (k,))\n",
    "    elif isinstance(value, list):\n",
    "        for v in value:\n",
    "            yield from inspect(v, keys[:-1] + (keys[-1] + '[]',))\n",
    "    else:\n",
    "        yield '.'.join(keys)\n",
    "\n",
    "def get_schema(rows):\n",
    "    schema = set()\n",
    "    for row in rows:\n",
    "        schema.update(inspect(row))\n",
    "    return schema\n",
    "\n",
    "schema = get_schema(datasets)\n",
    "print(*sorted(schema), sep='\\n')"
   ],
   "metadata": {
    "collapsed": false,
    "pycharm": {
     "name": "#%%\n"
    }
   }
  },
  {
   "cell_type": "markdown",
   "source": [
    "Schema pakankamai aiški, yra dvi lentelės, duomenų rinkinių ir resursų. Tik\n",
    "neaišku, kas slepiasi po `extras`. Žiūrim:"
   ],
   "metadata": {
    "collapsed": false,
    "pycharm": {
     "name": "#%% md\n"
    }
   }
  },
  {
   "cell_type": "code",
   "execution_count": 4,
   "outputs": [
    {
     "data": {
      "text/plain": "{'structure'}"
     },
     "execution_count": 4,
     "metadata": {},
     "output_type": "execute_result"
    }
   ],
   "source": [
    "{x['key'] for d in datasets for x in d.get('extras', [])}"
   ],
   "metadata": {
    "collapsed": false,
    "pycharm": {
     "name": "#%%\n"
    }
   }
  },
  {
   "cell_type": "markdown",
   "source": [
    "Supratau, `extras` yra papildomi duomenys ir konkrečiai `structure` yra\n",
    "duomenų struktūros lentelės, kurių panašu gali būti daugiau nei viena, nors\n",
    "turėtu būti tik viena.\n",
    "\n",
    "Matyt reikės `extras` interpretuoti kaip dar vieną lentelę.\n",
    "\n",
    "Kad būdų patogiau dirbti su duomenimis konvertuoju viską į\n",
    "[pandas](https://pandas.pydata.org/) duomenų struktūras:"
   ],
   "metadata": {
    "collapsed": false,
    "pycharm": {
     "name": "#%% md\n"
    }
   }
  },
  {
   "cell_type": "code",
   "execution_count": 5,
   "outputs": [],
   "source": [
    "import pandas as pd\n",
    "\n",
    "def fix_dates(dates):\n",
    "    for t, dates_ in dates.items():\n",
    "        t = tables[t]\n",
    "        for d in dates_:\n",
    "            t[d] = pd.to_datetime(t[d])\n",
    "\n",
    "\n",
    "tables = {\n",
    "    'datasets': [],\n",
    "    'resources': [],\n",
    "    'extras': [],\n",
    "}\n",
    "for d in datasets:\n",
    "    tables['datasets'] += [{\n",
    "        k: v\n",
    "        for k, v in d.items() if k not in ('resources', 'extras')\n",
    "    }]\n",
    "\n",
    "    tables['resources'] += [\n",
    "        {\n",
    "            **r,\n",
    "            'dataset': d['id'],\n",
    "        }\n",
    "        for r in d.get('resources', [])\n",
    "    ]\n",
    "\n",
    "    tables['extras'] += [\n",
    "        {\n",
    "            x['key']: x['value'],\n",
    "            'dataset': d['id'],\n",
    "        }\n",
    "        for x in d.get('extras', [])\n",
    "    ]\n",
    "\n",
    "tables = {k: pd.DataFrame(v) for k, v in tables.items()}\n",
    "\n",
    "fix_dates({\n",
    "    'datasets': [\n",
    "        'metadata_created',\n",
    "        'metadata_modified',\n",
    "    ],\n",
    "    'resources': [\n",
    "        'cache_last_updated',\n",
    "        'last_modified',\n",
    "    ],\n",
    "})"
   ],
   "metadata": {
    "collapsed": false,
    "pycharm": {
     "name": "#%%\n"
    }
   }
  },
  {
   "cell_type": "markdown",
   "source": [
    "Duomenys paruošti naudojimui, žiūrim ką turim.\n",
    "\n",
    "Duomenų rinkiniai:"
   ],
   "metadata": {
    "collapsed": false,
    "pycharm": {
     "name": "#%% md\n"
    }
   }
  },
  {
   "cell_type": "code",
   "execution_count": 6,
   "outputs": [
    {
     "name": "stdout",
     "output_type": "stream",
     "text": [
      "<class 'pandas.core.frame.DataFrame'>\n",
      "RangeIndex: 959 entries, 0 to 958\n",
      "Data columns (total 17 columns):\n",
      " #   Column             Non-Null Count  Dtype         \n",
      "---  ------             --------------  -----         \n",
      " 0   id                 959 non-null    object        \n",
      " 1   author             959 non-null    object        \n",
      " 2   authorEmail        959 non-null    object        \n",
      " 3   state              959 non-null    object        \n",
      " 4   version            959 non-null    object        \n",
      " 5   creatorUserId      959 non-null    object        \n",
      " 6   type               959 non-null    object        \n",
      " 7   numResources       959 non-null    int64         \n",
      " 8   numTags            959 non-null    int64         \n",
      " 9   title              959 non-null    object        \n",
      " 10  notes              959 non-null    object        \n",
      " 11  name               355 non-null    object        \n",
      " 12  private            959 non-null    bool          \n",
      " 13  open               959 non-null    bool          \n",
      " 14  metadata_created   959 non-null    datetime64[ns]\n",
      " 15  metadata_modified  959 non-null    datetime64[ns]\n",
      " 16  is_open            959 non-null    bool          \n",
      "dtypes: bool(3), datetime64[ns](2), int64(2), object(10)\n",
      "memory usage: 107.8+ KB\n"
     ]
    }
   ],
   "source": [
    "tables['datasets'].info()"
   ],
   "metadata": {
    "collapsed": false,
    "pycharm": {
     "name": "#%%\n"
    }
   }
  },
  {
   "cell_type": "markdown",
   "source": [
    "Resursai:"
   ],
   "metadata": {
    "collapsed": false,
    "pycharm": {
     "name": "#%% md\n"
    }
   }
  },
  {
   "cell_type": "code",
   "execution_count": 7,
   "outputs": [
    {
     "name": "stdout",
     "output_type": "stream",
     "text": [
      "<class 'pandas.core.frame.DataFrame'>\n",
      "RangeIndex: 978 entries, 0 to 977\n",
      "Data columns (total 21 columns):\n",
      " #   Column              Non-Null Count  Dtype         \n",
      "---  ------              --------------  -----         \n",
      " 0   mimetype            0 non-null      object        \n",
      " 1   hash                0 non-null      object        \n",
      " 2   description         977 non-null    object        \n",
      " 3   name                977 non-null    object        \n",
      " 4   format              965 non-null    object        \n",
      " 5   url                 978 non-null    object        \n",
      " 6   created             978 non-null    object        \n",
      " 7   state               0 non-null      object        \n",
      " 8   position            978 non-null    int64         \n",
      " 9   id                  965 non-null    object        \n",
      " 10  size                0 non-null      object        \n",
      " 11  cache_url           0 non-null      object        \n",
      " 12  datastore_active    978 non-null    bool          \n",
      " 13  cache_last_updated  0 non-null      datetime64[ns]\n",
      " 14  package_id          0 non-null      object        \n",
      " 15  mimetype_inner      0 non-null      object        \n",
      " 16  last_modified       0 non-null      datetime64[ns]\n",
      " 17  revision_id         0 non-null      object        \n",
      " 18  url_type            0 non-null      object        \n",
      " 19  resource_type       0 non-null      object        \n",
      " 20  dataset             978 non-null    object        \n",
      "dtypes: bool(1), datetime64[ns](2), int64(1), object(17)\n",
      "memory usage: 153.9+ KB\n"
     ]
    }
   ],
   "source": [
    "tables['resources'].info()"
   ],
   "metadata": {
    "collapsed": false,
    "pycharm": {
     "name": "#%%\n"
    }
   }
  },
  {
   "cell_type": "markdown",
   "source": [
    "Keista, `resources` lentelėje, daugiau kaip pusė duomenų laukų neturi\n",
    "reikšmių, įdomu kodėl taip yra?\n",
    "\n",
    "Extras:"
   ],
   "metadata": {
    "collapsed": false
   }
  },
  {
   "cell_type": "code",
   "execution_count": 8,
   "outputs": [
    {
     "name": "stdout",
     "output_type": "stream",
     "text": [
      "<class 'pandas.core.frame.DataFrame'>\n",
      "RangeIndex: 367 entries, 0 to 366\n",
      "Data columns (total 2 columns):\n",
      " #   Column     Non-Null Count  Dtype \n",
      "---  ------     --------------  ----- \n",
      " 0   structure  367 non-null    object\n",
      " 1   dataset    367 non-null    object\n",
      "dtypes: object(2)\n",
      "memory usage: 5.9+ KB\n"
     ]
    }
   ],
   "source": [
    "tables['extras'].info()"
   ],
   "metadata": {
    "collapsed": false,
    "pycharm": {
     "name": "#%%\n"
    }
   }
  },
  {
   "cell_type": "markdown",
   "source": [
    "Viskas atrodo neblogai, dabar galima pereiti prie EDP klausimyno klausimų.\n",
    "\n",
    "Bet prieš tai, noriu atkreipti dėmesį, kodėl reikalingas atvertų duomenų\n",
    "struktūros aprašas, tam, kad nereikėtų daryti to, ką aš ką tik padariau. T. y.\n",
    "kad nereikėtų klaidžioti po duomenis, bandant suprasti kas juose yra, tai turėtų\n",
    "matytis duomenų struktūros apraše, kuris turėtų būti pateikiamas kartu su\n",
    "duomenimis.\n",
    "\n",
    "\n",
    "Atsakymai europos duomenų portalui\n",
    "==================================\n",
    "\n",
    "Iš klausimyno man reikia atsakyti tik į 4 dalies, apie atvirų duomenų kokybę,\n",
    "klausimus (Dimension 4: Open Data Quality).\n",
    "\n",
    "> 4.1 Currency and completeness\n",
    "\n",
    "EDP klausimyne yra keletas klausimų apie duomenų metaduomenų atnaujinimo\n",
    "dažnumą. Manau iš turimų duomenų nelabai galima atsakyti į tuos klausimus, todėl\n",
    "tiesiog pabandysiu pažiūrėti į `datasets.metadata_created` ir\n",
    "`datasets.metadata_modified` duomenis, kurie turėtų rodyti kada duomenų\n",
    "rinkiniai buvo paskutinį kartą atnaujinti."
   ],
   "metadata": {
    "collapsed": false,
    "pycharm": {
     "name": "#%% md\n"
    }
   }
  },
  {
   "cell_type": "code",
   "execution_count": 40,
   "outputs": [
    {
     "data": {
      "text/plain": "<Figure size 864x288 with 1 Axes>",
      "image/png": "[encoded data removed]"
     },
     "metadata": {},
     "output_type": "display_data"
    }
   ],
   "source": [
    "%matplotlib inline\n",
    "\n",
    "import locale\n",
    "import numpy as np\n",
    "import matplotlib as mpl\n",
    "import matplotlib.pyplot as plt\n",
    "\n",
    "locale.setlocale(locale.LC_TIME, 'lt_LT.UTF-8')\n",
    "plt.style.use('dark_background')\n",
    "mpl.rc('font', size=16)\n",
    "\n",
    "dates = {}\n",
    "for c in ('metadata_created', 'metadata_modified'):\n",
    "    d = tables['datasets'][c].dropna()\n",
    "    d = pd.Series(np.ones(d.shape), index=d)\n",
    "    dates[c] = d.resample('D').count()\n",
    "df = pd.DataFrame(dates)\n",
    "df.index.name = \"Laikas\"\n",
    "df.plot(logy=True, grid=True, figsize=(12, 4));"
   ],
   "metadata": {
    "collapsed": false,
    "pycharm": {
     "name": "#%%\n"
    }
   }
  },
  {
   "cell_type": "markdown",
   "source": [
    "Sunku pasakyti ką iš to galima spręsti. Matosi, kad duomenų rinkinių\n",
    "metaduomenys kartais atnaujinami. O nuorodos į atvertus duomenis panašu, kad\n",
    "neatnaujinamos visai, nes nėra nei vienos atnaujinimo datos:"
   ],
   "metadata": {
    "collapsed": false,
    "pycharm": {
     "name": "#%% md\n"
    }
   }
  },
  {
   "cell_type": "code",
   "execution_count": 10,
   "outputs": [
    {
     "name": "stdout",
     "output_type": "stream",
     "text": [
      "<class 'pandas.core.frame.DataFrame'>\n",
      "RangeIndex: 978 entries, 0 to 977\n",
      "Data columns (total 2 columns):\n",
      " #   Column              Non-Null Count  Dtype         \n",
      "---  ------              --------------  -----         \n",
      " 0   cache_last_updated  0 non-null      datetime64[ns]\n",
      " 1   last_modified       0 non-null      datetime64[ns]\n",
      "dtypes: datetime64[ns](2)\n",
      "memory usage: 15.4 KB\n"
     ]
    }
   ],
   "source": [
    "tables['resources'][['cache_last_updated', 'last_modified']].info()"
   ],
   "metadata": {
    "collapsed": false,
    "pycharm": {
     "name": "#%%\n"
    }
   }
  },
  {
   "cell_type": "markdown",
   "source": [
    "Klausimas ar resursų metaduomenys niekada nebuvo atnaujinti ar čia kažkokia\n",
    "klaida *data.gov.lt* pusėje?\n",
    "\n",
    "> 12\\. What percentage of the open data available on the national portal is\n",
    "> accompanied by licensing information?\n",
    "\n",
    "Peržiūrėjau struktūrą, bet nematau jokių duomenų laukų apie licenciją. Taip pat\n",
    "negaliu atsakyti ir į kitus klausimus susijusius su licencijos naudojimu.\n",
    "\n",
    "> 18\\. What is the percentage of metadata on your portal that is DCAT-AP\n",
    "> compliant, in terms of mandatory classes? (agent, catalogue, data set,\n",
    "> literal, resource)\n",
    "\n",
    "Kiek žinau pačiame atvirų duomenų kataloge yra galimybė pateikti visas šias\n",
    "klases, bet per katalogo viešąjį API yra prieinami duomenys tik apie **data\n",
    "set** ir **resource**. Todėl nėra galimybė atsakyti į šį ir kitus panašius\n",
    "klausimus.\n",
    "\n",
    "> 23\\. What is the percentage of data sets whose metadata provides a reference\n",
    "> to where the data can be downloaded, or its API accessed (“download-URL” in\n",
    "> the DCAT-AP specification)?"
   ],
   "metadata": {
    "collapsed": false,
    "pycharm": {
     "name": "#%% md\n"
    }
   }
  },
  {
   "cell_type": "code",
   "execution_count": 11,
   "outputs": [
    {
     "data": {
      "text/plain": "18.873826903023982"
     },
     "execution_count": 11,
     "metadata": {},
     "output_type": "execute_result"
    }
   ],
   "source": [
    "with_links = tables['resources'][(\n",
    "    tables['resources'].url.notnull() &\n",
    "    tables['resources'].url.str.len() > 0\n",
    ")]\n",
    "downloadable = len(with_links.dataset.unique())\n",
    "\n",
    "100 / len(tables['datasets']) * downloadable"
   ],
   "metadata": {
    "collapsed": false,
    "pycharm": {
     "name": "#%%\n"
    }
   }
  },
  {
   "cell_type": "markdown",
   "source": [
    "Iš visų duomenų rinkinių tik 19% rinkinių turi duomenų atsisiuntimo nuorodas.\n",
    "\n",
    "Įdomu, kiek iš viso yra nuorodų į pačius duomenis?"
   ],
   "metadata": {
    "collapsed": false,
    "pycharm": {
     "name": "#%% md\n"
    }
   }
  },
  {
   "cell_type": "code",
   "execution_count": 12,
   "outputs": [
    {
     "data": {
      "text/plain": "572"
     },
     "execution_count": 12,
     "metadata": {},
     "output_type": "execute_result"
    }
   ],
   "source": [
    "len(with_links)"
   ],
   "metadata": {
    "collapsed": false,
    "pycharm": {
     "name": "#%%\n"
    }
   }
  },
  {
   "cell_type": "markdown",
   "source": [
    "Įdomu, kiek iš visų šių nuorodų yra veikiančios?"
   ],
   "metadata": {
    "collapsed": false,
    "pycharm": {
     "name": "#%% md\n"
    }
   }
  },
  {
   "cell_type": "code",
   "execution_count": 13,
   "outputs": [
    {
     "name": "stdout",
     "output_type": "stream",
     "text": [
      "             200: 416\n",
      "     ReadTimeout: 155\n",
      "        non-http:   1\n"
     ]
    }
   ],
   "source": [
    "import warnings\n",
    "\n",
    "from collections import Counter\n",
    "from concurrent.futures import ThreadPoolExecutor\n",
    "from requests.packages.urllib3.exceptions import InsecureRequestWarning\n",
    "\n",
    "warnings.simplefilter('ignore', InsecureRequestWarning)\n",
    "\n",
    "def check_link(link):\n",
    "    if link.startswith(('http://', 'https://')):\n",
    "        try:\n",
    "            return requests.head(\n",
    "                link,\n",
    "                timeout=30,\n",
    "                verify=False,\n",
    "                allow_redirects=True,\n",
    "            ).status_code\n",
    "        except Exception as e:\n",
    "            return type(e).__name__\n",
    "    else:\n",
    "        return 'non-http'\n",
    "\n",
    "with ThreadPoolExecutor(max_workers=100) as executor:\n",
    "    results = executor.map(check_link, with_links.url)\n",
    "    for k, v in Counter(results).most_common():\n",
    "        print(f\"{k:>16}: {v:>3}\")"
   ],
   "metadata": {
    "collapsed": false,
    "pycharm": {
     "name": "#%%\n"
    }
   }
  },
  {
   "cell_type": "markdown",
   "source": [
    "Panašų, kad apie 155 nuorodos neveikia arba nesugebėjo duoti atsakymo į HEAD\n",
    "užklausą per 30 sekundžių.\n",
    "\n",
    "> 28\\. What percentage of datasets is made available under a standard open\n",
    "> licence or an explicit custom open licence, in any data format including\n",
    "> text documents?\n",
    "\n",
    "Kadangi duomenų apie licenciją nėra, tai galima teigti, kad visi duomenys\n",
    "kataloge prieinami pagal atvirą licenciją. T.y. atsakymas į šį klausimą yra 19%.\n",
    "\n",
    "> 30\\. Of the percentage indicated in the previous question (Question 28), what\n",
    "> percentage of datasets is made available under a standard open licence or an\n",
    "> explicit custom open licence, in a structured data format?\n",
    "\n",
    "Ta pati situacija, dėl to, kad nėra duomenų apie licenciją. Atsakymas į šį\n",
    "klausimą yra 100%.\n",
    "\n",
    "> 31\\. Of the percentage indicated in the previous question (Question 30),\n",
    "> which part is also in an open and machine-readable format?\n",
    "\n",
    "Kad atsakyti į šį klausimą, pirmiausiai žiūrim kokie formatai iš vis pasiekiami:"
   ],
   "metadata": {
    "collapsed": false,
    "pycharm": {
     "name": "#%% md\n"
    }
   }
  },
  {
   "cell_type": "code",
   "execution_count": 14,
   "outputs": [
    {
     "data": {
      "text/plain": "CSV     953\nXLSX      8\nXLS       2\nJSON      1\nPDF       1\nName: format, dtype: int64"
     },
     "execution_count": 14,
     "metadata": {},
     "output_type": "execute_result"
    }
   ],
   "source": [
    "tables['resources'].format.value_counts()"
   ],
   "metadata": {
    "collapsed": false,
    "pycharm": {
     "name": "#%%\n"
    }
   }
  },
  {
   "cell_type": "code",
   "execution_count": 15,
   "outputs": [
    {
     "data": {
      "text/plain": "Series([], Name: mimetype, dtype: int64)"
     },
     "execution_count": 15,
     "metadata": {},
     "output_type": "execute_result"
    }
   ],
   "source": [
    "tables['resources'].mimetype.value_counts()"
   ],
   "metadata": {
    "collapsed": false,
    "pycharm": {
     "name": "#%%\n"
    }
   }
  },
  {
   "cell_type": "code",
   "execution_count": 16,
   "outputs": [
    {
     "data": {
      "text/plain": "Series([], Name: resource_type, dtype: int64)"
     },
     "execution_count": 16,
     "metadata": {},
     "output_type": "execute_result"
    }
   ],
   "source": [
    "tables['resources'].resource_type.value_counts()"
   ],
   "metadata": {
    "collapsed": false,
    "pycharm": {
     "name": "#%%\n"
    }
   }
  },
  {
   "cell_type": "code",
   "execution_count": 17,
   "outputs": [
    {
     "data": {
      "text/plain": "Series([], Name: url_type, dtype: int64)"
     },
     "execution_count": 17,
     "metadata": {},
     "output_type": "execute_result"
    }
   ],
   "source": [
    "tables['resources'].url_type.value_counts()"
   ],
   "metadata": {
    "collapsed": false,
    "pycharm": {
     "name": "#%%\n"
    }
   }
  },
  {
   "cell_type": "markdown",
   "source": [
    "Nežinau kokia `mimetype`, `resource_type` ir `url_type` laukų paskirtis, bet\n",
    "panašu, kad jie nenaudojami, todėl norint nustatyti kiek duomenų rinkinių\n",
    "teikiami atvirais formatais remsiuosi `format` stulpelio duomenimis."
   ],
   "metadata": {
    "collapsed": false,
    "pycharm": {
     "name": "#%% md\n"
    }
   }
  },
  {
   "cell_type": "code",
   "execution_count": 18,
   "outputs": [
    {
     "data": {
      "text/plain": "183.9779005524862"
     },
     "execution_count": 18,
     "metadata": {},
     "output_type": "execute_result"
    }
   ],
   "source": [
    "100 / downloadable * len(tables['resources'][\n",
    "    tables['resources'].format.isin(['CSV', 'JSON'])\n",
    "].dataset.unique())"
   ],
   "metadata": {
    "collapsed": false,
    "pycharm": {
     "name": "#%%\n"
    }
   }
  },
  {
   "cell_type": "markdown",
   "source": [
    "Įdomu. Kaip suprantu dalyje duomenų rinkinių deklaruojama, kad duomenys teikiami\n",
    "atvirais formatais, bet nuorodų į pačius duomenis nėra. Gal toks procentas\n",
    "dėl to, kad dalis duomenų dar nėra atverti, bet planuojama juos atverti?\n",
    "\n",
    "Bandom pasižiūrėti, kiek atvirų formatų iš duomenų, kuriuos galima atsisiųsti."
   ],
   "metadata": {
    "collapsed": false,
    "pycharm": {
     "name": "#%% md\n"
    }
   }
  },
  {
   "cell_type": "code",
   "execution_count": 19,
   "outputs": [
    {
     "data": {
      "text/plain": "100.0"
     },
     "execution_count": 19,
     "metadata": {},
     "output_type": "execute_result"
    }
   ],
   "source": [
    "100 / downloadable * len(tables['resources'][(\n",
    "    tables['resources'].url.notnull() &\n",
    "    tables['resources'].url.str.len() > 0 &\n",
    "    tables['resources'].format.isin(['CSV', 'JSON'])\n",
    ")].dataset.unique())"
   ],
   "metadata": {
    "collapsed": false,
    "pycharm": {
     "name": "#%%\n"
    }
   }
  },
  {
   "cell_type": "markdown",
   "source": [
    "Taip išeina, kad visi duomenys, kuriuos galima atsisiųsti teikiami atvirais\n",
    "formatais.\n",
    "\n",
    "> 32\\. Of the percentage indicated in the previous question (Question 31), what\n",
    "> percentage of datasets also consistely use Uniform Resource Identifiers?\n",
    "\n",
    "> 33\\. Of the percentage indicated in the previous question (Question 32), what\n",
    "> percentage of datasets also links to other renowned sources to provide\n",
    "> additional context for the users, e.g. in a linked data fashion?\n",
    "\n",
    "Tokių duomenų taip pat nėra. Kiek žinau, pirmas duomenų atvėrimo etapas\n",
    "apsiribojo tik trečiuoju brandos lygiu, todėl atsakymas į 32 ir 33 klausimus\n",
    "yra 0%.\n",
    "\n",
    "Mano planuose, II duomenų atvėrimo etape taisyti šią situaciją ir kiek\n",
    "įmanoma duomenis atverti 5 brandos lygiu ir tai nėra taip jau sudėtinga.\n",
    "\n",
    "Čia buvo paskutinis klausimyno klausimas, deja į dalį klausimų nėra galimybės\n",
    "atsakyti, nes nėra pakankamai duomenų, bent jau prieinamų per viešąjį\n",
    "data.gov.lt API.\n",
    "\n",
    "\n",
    "Trūkstami duomenys\n",
    "==================\n",
    "\n",
    "Išsiaiškinau, kad pasirodo data.gov.lt sukasi ne ant CKAN, o ant nuo nulio\n",
    "perdaryto CKAN analogo ir API yra ne CKAN API, o į CKAN panašus API.\n",
    "\n",
    "Ką gi, bandau aiškintis, kokių laukų trūksta. Tam reikalui panaudosiu\n",
    "demo.ckan.org ir palyginsiu jo schema su data.gov.lt."
   ],
   "metadata": {
    "collapsed": false,
    "pycharm": {
     "name": "#%% md\n"
    }
   }
  },
  {
   "cell_type": "code",
   "execution_count": 53,
   "outputs": [
    {
     "name": "stdout",
     "output_type": "stream",
     "text": [
      "author_email\n",
      "creator_user_id\n",
      "groups[].description\n",
      "groups[].display_name\n",
      "groups[].id\n",
      "groups[].image_display_url\n",
      "groups[].name\n",
      "groups[].title\n",
      "isopen\n",
      "license_id\n",
      "license_title\n",
      "license_url\n",
      "maintainer\n",
      "maintainer_email\n",
      "num_resources\n",
      "num_tags\n",
      "organization\n",
      "organization.approval_status\n",
      "organization.created\n",
      "organization.description\n",
      "organization.id\n",
      "organization.image_url\n",
      "organization.is_organization\n",
      "organization.name\n",
      "organization.revision_id\n",
      "organization.state\n",
      "organization.title\n",
      "organization.type\n",
      "owner_org\n",
      "resources[].BET\n",
      "resources[].alternates\n",
      "resources[].bq_table_id\n",
      "resources[].bq_table_name\n",
      "resources[].bytes\n",
      "resources[].calcination_protocol\n",
      "resources[].capability_node\n",
      "resources[].characterSet\n",
      "resources[].collection_date\n",
      "resources[].comments\n",
      "resources[].data_correctness\n",
      "resources[].data_source\n",
      "resources[].data_source_type\n",
      "resources[].datafile-date\n",
      "resources[].density\n",
      "resources[].distribution_format\n",
      "resources[].encoding\n",
      "resources[].extra_key\n",
      "resources[].file\n",
      "resources[].files\n",
      "resources[].form\n",
      "resources[].institution\n",
      "resources[].lab_environment\n",
      "resources[].language\n",
      "resources[].lot_number\n",
      "resources[].maintainer\n",
      "resources[].map_type\n",
      "resources[].mass_synthesized\n",
      "resources[].measurement_bias\n",
      "resources[].measurement_type\n",
      "resources[].mimetype-inner\n",
      "resources[].molecular_formula\n",
      "resources[].molecular_weight\n",
      "resources[].more\n",
      "resources[].my_extra\n",
      "resources[].notes\n",
      "resources[].null\n",
      "resources[].path\n",
      "resources[].periodicity\n",
      "resources[].profile\n",
      "resources[].resorce_id\n",
      "resources[].resource-type\n",
      "resources[].resource_id\n",
      "resources[].sample_barcode\n",
      "resources[].schema\n",
      "resources[].some\n",
      "resources[].species\n",
      "resources[].status\n",
      "resources[].synthesis_date\n",
      "resources[].synthesis_method\n",
      "resources[].tags\n",
      "resources[].technology_type\n",
      "resources[].title\n",
      "resources[].transformed\n",
      "resources[].validity\n",
      "resources[].webstore_url\n",
      "revision_id\n",
      "tags[].display_name\n",
      "tags[].id\n",
      "tags[].name\n",
      "tags[].state\n",
      "tags[].vocabulary_id\n",
      "url\n"
     ]
    }
   ],
   "source": [
    "ckan_datasets = get_datasets('https://demo.ckan.org/api/3')\n",
    "ckan_schema = get_schema(ckan_datasets)\n",
    "missing = ckan_schema - schema\n",
    "print(*sorted(missing), sep='\\n')"
   ],
   "metadata": {
    "collapsed": false,
    "pycharm": {
     "name": "#%%\n"
    }
   }
  },
  {
   "cell_type": "markdown",
   "source": [
    "Išvada\n",
    "======\n",
    "\n",
    "Pašnekėjus su Atea, kurie kūrė data.gov.lt sužinojau įdomių dalykų. Pasirodo\n",
    "data.gov.lt pastatytas ne ant CKAN, o perrašytas nuo nulio. Tai reiškia, kad\n",
    "data.gov.lt projektas iš esmės yra miręs. Nes po kažkiek laiko baigsis\n",
    "palaikymo sutartis, o technologijos judės į priekį, data.gov.lt nebus nei\n",
    "tobulinamas, nei atnaujinamas, tai reiškia, kad jis galiausiai bus išmestas.\n",
    "\n",
    "Dar išsiaiškinau, kad viso yra tokie data.gov.lt API šaltiniai:\n",
    "\n",
    "- [Viešasis API](https://data.gov.lt/public/api/1).\n",
    "- [Duomenų dumpas](https://data.gov.lt/edp/dcat-ap.rdf) skirtas EDP, jis yra\n",
    "  viešas, bet neviešinamas.\n",
    "- [SPARQL prieigos taškas](https://data.gov.lt/sparql), kuriame prieinami tik\n",
    "  ADK metaduomenys, bet ne patys duomenys.\n",
    "- Ir dar yra vidinis tiekėjų API, kurio dar neteko matyti.\n",
    "\n",
    "Kas liečia atvirų duomenų brandos lygį, geriausiu atveju duomenys teikiami\n",
    "trečiuoju brandos lygiu ir toks reikalavimas buvo įrašytas į techninę\n",
    "specifikaciją, jei gerai atsimenu.\n",
    "\n",
    "Žodžiu yra labai daug vietos kur galima tobulėti."
   ],
   "metadata": {
    "collapsed": false,
    "pycharm": {
     "name": "#%% md\n"
    }
   }
  }
 ],
 "metadata": {
  "kernelspec": {
   "display_name": "Python 3",
   "env": {},
   "interrupt_mode": "signal",
   "language": "python",
   "metadata": {},
   "name": "python3"
  },
  "nikola": {
   "category": "",
   "date": "2020-10-28 10:12:22 UTC+02:00",
   "description": "",
   "link": "",
   "slug": "atviru-duomenu-katalogo-metaduomenu-analize",
   "tags": "",
   "title": "Atvirų duomenų katalogo metaduomenų analizė",
   "type": "text",
   "status": "draft"
  }
 },
 "nbformat": 4,
 "nbformat_minor": 4
}