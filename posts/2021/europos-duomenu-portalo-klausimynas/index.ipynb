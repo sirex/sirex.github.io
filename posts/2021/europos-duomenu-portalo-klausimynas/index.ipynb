{
 "cells": [
  {
   "cell_type": "markdown",
   "metadata": {},
   "source": [
    "Write your post here."
   ]
  }
 ],
 "metadata": {
  "kernelspec": {
   "display_name": "Python 3",
   "env": {},
   "interrupt_mode": "signal",
   "language": "python",
   "metadata": {},
   "name": "python3"
  },
  "nikola": {
   "category": "",
   "date": "2021-05-26 16:24:55 UTC+03:00",
   "description": "",
   "link": "",
   "slug": "europos-duomenu-portalo-klausimynas",
   "tags": "",
   "title": "Europos duomenų portalo klausimynas",
   "type": "text"
  }
 },
 "nbformat": 4,
 "nbformat_minor": 4
}
