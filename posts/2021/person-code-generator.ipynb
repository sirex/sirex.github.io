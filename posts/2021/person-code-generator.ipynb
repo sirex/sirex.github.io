{
 "cells": [
  {
   "cell_type": "markdown",
   "metadata": {},
   "source": [
    "I had a task, where I needed to generate a bunch of fake person codes (to be\n",
    "more precise, Lithuanian national identification numbers) in tests. Also, I\n",
    "wanted to validate person code, so I need both, validator and generator.\n",
    "Generator should generate fake, but valid person code.\n",
    "\n",
    "First idea is to check, maybe [Faker](https://pypi.org/project/Faker/) library\n",
    "has person code generator already? I [looked it\n",
    "up](https://faker.readthedocs.io/en/master/locales/lt_LT.html#faker-providers-person),\n",
    "and it looks, that Faker does not have this feature.\n",
    "\n",
    "Then, I found a [Wikipedia page](https://lt.wikipedia.org/wiki/Asmens_kodas),\n",
    "with per person code specs.\n",
    "\n",
    "So according to Wikipedia, person code generator should look something like\n",
    "this:"
   ]
  },
  {
   "cell_type": "code",
   "execution_count": 80,
   "outputs": [
    {
     "data": {
      "text/plain": "'61111244004'"
     },
     "execution_count": 80,
     "metadata": {},
     "output_type": "execute_result"
    }
   ],
   "source": [
    "import random\n",
    "import datetime\n",
    "\n",
    "\n",
    "def get_person_code_checksum(code: str) -> int:\n",
    "    numbers = list(map(int, code))\n",
    "    factors = [1, 2, 3, 4, 5, 6, 7, 8, 9, 1]\n",
    "    checksum = sum(x * i for x, i in zip(numbers, factors)) % 11\n",
    "    if checksum == 10:\n",
    "        factors = [3, 4, 5, 6, 7, 8, 9, 1, 2, 3]\n",
    "        checksum = sum(x * i for x, i in zip(numbers, factors)) % 10\n",
    "    return checksum\n",
    "\n",
    "\n",
    "def generate_person_code(\n",
    "    *,\n",
    "    dob: datetime.datetime = None,\n",
    "    gender: int = None,  # 0 - male, 1 - female\n",
    "    num: int = None,  # between 1 and 999, including both ends\n",
    ") -> str:\n",
    "    if dob is None:\n",
    "        now = datetime.datetime.now()\n",
    "        dob = random.randint(\n",
    "            int((now - datetime.timedelta(days=365) * 105).timestamp()),\n",
    "            int(now.timestamp()),\n",
    "        )\n",
    "        dob = datetime.date.fromtimestamp(dob)\n",
    "\n",
    "    if dob.year < 1801:\n",
    "        raise ValueError(\"dob year must be at least 1801\")\n",
    "\n",
    "    if gender is None:\n",
    "        gender = random.randint(0, 1)\n",
    "    century = dob.year // 100 - 18\n",
    "    cender = century * 2 + gender + 1\n",
    "\n",
    "    if num is None:\n",
    "        num = random.randint(1, 999)\n",
    "\n",
    "    code = f'{cender}{dob:%y%m%d}{num:03}'\n",
    "    checksum = get_person_code_checksum(code)\n",
    "\n",
    "    return f'{code}{checksum}'\n",
    "\n",
    "generate_person_code()"
   ],
   "metadata": {
    "collapsed": false,
    "pycharm": {
     "name": "#%%\n"
    }
   }
  },
  {
   "cell_type": "markdown",
   "source": [
    "Now the validator part, should look like this:"
   ],
   "metadata": {
    "collapsed": false,
    "pycharm": {
     "name": "#%% md\n"
    }
   }
  },
  {
   "cell_type": "code",
   "execution_count": 81,
   "outputs": [
    {
     "data": {
      "text/plain": "True"
     },
     "execution_count": 81,
     "metadata": {},
     "output_type": "execute_result"
    }
   ],
   "source": [
    "def validate_person_code(code: str) -> bool:\n",
    "    code = str(code)\n",
    "\n",
    "    if len(code) != 11:\n",
    "        return False\n",
    "\n",
    "    if not code.isdigit():\n",
    "        return False\n",
    "\n",
    "    if code[0] == '9':\n",
    "        # This is an exceptional case and might be a valid person code.\n",
    "        return True\n",
    "\n",
    "    year = int(code[1:3])\n",
    "    month = int(code[3:5])\n",
    "    day = int(code[5:7])\n",
    "    if year and month and day:\n",
    "        # year, month ant day can be 0 if person does not remember they birth\n",
    "        # date.\n",
    "        century, gender = divmod(int(code[0]), 2)\n",
    "        year = (17 + century) * 100 + year\n",
    "        try:\n",
    "            dob = datetime.datetime(year, month, day)\n",
    "        except ValueError:\n",
    "            # Invalid birth date.\n",
    "            return False\n",
    "\n",
    "        if dob > datetime.datetime.now():\n",
    "            # Person can not be born in future.\n",
    "            return False\n",
    "\n",
    "    if int(code[-1]) != get_person_code_checksum(code[:-1]):\n",
    "        # Invalid checksum.\n",
    "        return False\n",
    "\n",
    "    return True\n",
    "\n",
    "validate_person_code(generate_person_code())"
   ],
   "metadata": {
    "collapsed": false,
    "pycharm": {
     "name": "#%%\n"
    }
   }
  },
  {
   "cell_type": "markdown",
   "source": [
    "I learned interesting facts about Lithuanian national identification number.\n",
    "Only people who born at least on 1801 or later can have an identification\n",
    "number. That's quite recent, I wonder if people were assigned an id before that?\n",
    "\n",
    "Also, from person code you can learn persons full date of birth, gender and\n",
    "number, which child it was on that date. That is quite a lot of personal\n",
    "information. I think personal code should not have all that information.\n",
    "Person id should be just a random number, maybe with a checksum for validity."
   ],
   "metadata": {
    "collapsed": false,
    "pycharm": {
     "name": "#%% md\n"
    }
   }
  }
 ],
 "metadata": {
  "kernelspec": {
   "display_name": "Python 3",
   "env": {},
   "interrupt_mode": "signal",
   "language": "python",
   "metadata": {},
   "name": "python3"
  },
  "nikola": {
   "category": "",
   "date": "2021-01-14 14:57:08 UTC+02:00",
   "description": "",
   "link": "",
   "slug": "person-code-generator",
   "tags": "python",
   "title": "Person code generator",
   "type": "text"
  }
 },
 "nbformat": 4,
 "nbformat_minor": 4
}