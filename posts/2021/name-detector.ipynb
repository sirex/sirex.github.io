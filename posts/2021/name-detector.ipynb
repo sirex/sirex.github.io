{
 "cells": [
  {
   "cell_type": "markdown",
   "metadata": {},
   "source": [
    "How to detect a human name?\n",
    "\n",
    "Maybe I can do that with scikit-lean?\n",
    "\n",
    "First I need a list of names, to train a model for detecting names. I have some\n",
    "names, that I have [scraped some time\n",
    "ago](https://github.com/sirex/databot-bots/blob/master/bots/tevu-darzelis.lt/vaiku-vardai.py),\n",
    "I will try to use that."
   ]
  },
  {
   "cell_type": "code",
   "execution_count": 31,
   "outputs": [],
   "source": [
    "import os\n",
    "import sqlite3\n",
    "import msgpack"
   ],
   "metadata": {
    "collapsed": false,
    "pycharm": {
     "name": "#%%\n"
    }
   }
  },
  {
   "cell_type": "code",
   "execution_count": 32,
   "outputs": [],
   "source": [
    "conn = sqlite3.connect(os.path.expanduser ('~/devel/databot/bots/data/tevu-darzelis.lt/vaiku-vardai.db'))\n",
    "curs = conn.cursor()\n",
    "curs.execute('SELECT id FROM databotpipes WHERE pipe = ?', ('vardai',))\n",
    "tid, = curs.fetchone()\n",
    "names = [\n",
    "    msgpack.unpackb(row[0], strict_map_key=False)[1]['vardas'].lower()\n",
    "    for row in curs.execute(f'SELECT value FROM t{tid}')\n",
    "]"
   ],
   "metadata": {
    "collapsed": false,
    "pycharm": {
     "name": "#%%\n"
    }
   }
  },
  {
   "cell_type": "code",
   "execution_count": 33,
   "outputs": [
    {
     "data": {
      "text/plain": "13321"
     },
     "execution_count": 33,
     "metadata": {},
     "output_type": "execute_result"
    }
   ],
   "source": [
    "len(names)"
   ],
   "metadata": {
    "collapsed": false,
    "pycharm": {
     "name": "#%%\n"
    }
   }
  },
  {
   "cell_type": "code",
   "execution_count": 25,
   "outputs": [
    {
     "data": {
      "text/plain": "['audrius', 'atėnė', 'alanas']"
     },
     "execution_count": 25,
     "metadata": {},
     "output_type": "execute_result"
    }
   ],
   "source": [
    "names[:3]"
   ],
   "metadata": {
    "collapsed": false,
    "pycharm": {
     "name": "#%%\n"
    }
   }
  },
  {
   "cell_type": "code",
   "execution_count": 53,
   "outputs": [],
   "source": [
    "def ngram(x, n):\n",
    "    return list(zip(*[x[i:] for i in range(n)]))\n",
    "\n",
    "def build(X):\n",
    "    model = {}\n",
    "    for x in X:\n",
    "        for i, k in enumerate(ngram(x, 2)):\n",
    "            model.setdefault(i, {})\n",
    "            model[i].setdefault(k, 0)\n",
    "            model[i][k] += 1\n",
    "    return {\n",
    "        i: {k: v / max(x.values()) for k, v in x.items()}\n",
    "        for i, x in model.items()\n",
    "    }\n",
    "\n",
    "model = build(names)"
   ],
   "metadata": {
    "collapsed": false,
    "pycharm": {
     "name": "#%%\n"
    }
   }
  },
  {
   "cell_type": "code",
   "execution_count": 59,
   "outputs": [
    {
     "data": {
      "text/plain": "0.14921365705997422"
     },
     "execution_count": 59,
     "metadata": {},
     "output_type": "execute_result"
    }
   ],
   "source": [
    "def check(model, x):\n",
    "    p = [\n",
    "        model.get(i, {}).get(k, 0)\n",
    "        for i, k in enumerate(ngram(x, 2))\n",
    "    ]\n",
    "    return sum(p) / len(p)\n",
    "\n",
    "check(model, 'kamuolys')"
   ],
   "metadata": {
    "collapsed": false,
    "pycharm": {
     "name": "#%%\n"
    }
   }
  },
  {
   "cell_type": "code",
   "execution_count": 62,
   "outputs": [
    {
     "name": "stdout",
     "output_type": "stream",
     "text": [
      "Collecting lt_core_news_md==2.3.0\r\n",
      "  Downloading https://github.com/explosion/spacy-models/releases/download/lt_core_news_md-2.3.0/lt_core_news_md-2.3.0.tar.gz (44.9 MB)\r\n",
      "\u001B[K     |████████████████████████████████| 44.9 MB 1.7 MB/s eta 0:00:01\r\n",
      "\u001B[?25hRequirement already satisfied: spacy<2.4.0,>=2.3.0 in /home/sirex/devel/sirex.lt/nikola/env/lib/python3.9/site-packages (from lt_core_news_md==2.3.0) (2.3.5)\r\n",
      "Requirement already satisfied: preshed<3.1.0,>=3.0.2 in /home/sirex/devel/sirex.lt/nikola/env/lib/python3.9/site-packages (from spacy<2.4.0,>=2.3.0->lt_core_news_md==2.3.0) (3.0.5)\r\n",
      "Requirement already satisfied: cymem<2.1.0,>=2.0.2 in /home/sirex/devel/sirex.lt/nikola/env/lib/python3.9/site-packages (from spacy<2.4.0,>=2.3.0->lt_core_news_md==2.3.0) (2.0.5)\r\n",
      "Requirement already satisfied: catalogue<1.1.0,>=0.0.7 in /home/sirex/devel/sirex.lt/nikola/env/lib/python3.9/site-packages (from spacy<2.4.0,>=2.3.0->lt_core_news_md==2.3.0) (1.0.0)\r\n",
      "Requirement already satisfied: numpy>=1.15.0 in /home/sirex/devel/sirex.lt/nikola/env/lib/python3.9/site-packages (from spacy<2.4.0,>=2.3.0->lt_core_news_md==2.3.0) (1.19.4)\r\n",
      "Requirement already satisfied: plac<1.2.0,>=0.9.6 in /home/sirex/devel/sirex.lt/nikola/env/lib/python3.9/site-packages (from spacy<2.4.0,>=2.3.0->lt_core_news_md==2.3.0) (1.1.3)\r\n",
      "Requirement already satisfied: requests<3.0.0,>=2.13.0 in /home/sirex/devel/sirex.lt/nikola/env/lib/python3.9/site-packages (from spacy<2.4.0,>=2.3.0->lt_core_news_md==2.3.0) (2.25.1)\r\n",
      "Requirement already satisfied: thinc<7.5.0,>=7.4.1 in /home/sirex/devel/sirex.lt/nikola/env/lib/python3.9/site-packages (from spacy<2.4.0,>=2.3.0->lt_core_news_md==2.3.0) (7.4.5)\r\n",
      "Requirement already satisfied: setuptools in /home/sirex/devel/sirex.lt/nikola/env/lib/python3.9/site-packages (from spacy<2.4.0,>=2.3.0->lt_core_news_md==2.3.0) (49.2.1)\r\n",
      "Requirement already satisfied: wasabi<1.1.0,>=0.4.0 in /home/sirex/devel/sirex.lt/nikola/env/lib/python3.9/site-packages (from spacy<2.4.0,>=2.3.0->lt_core_news_md==2.3.0) (0.8.0)\r\n",
      "Requirement already satisfied: srsly<1.1.0,>=1.0.2 in /home/sirex/devel/sirex.lt/nikola/env/lib/python3.9/site-packages (from spacy<2.4.0,>=2.3.0->lt_core_news_md==2.3.0) (1.0.5)\r\n",
      "Requirement already satisfied: murmurhash<1.1.0,>=0.28.0 in /home/sirex/devel/sirex.lt/nikola/env/lib/python3.9/site-packages (from spacy<2.4.0,>=2.3.0->lt_core_news_md==2.3.0) (1.0.5)\r\n",
      "Requirement already satisfied: tqdm<5.0.0,>=4.38.0 in /home/sirex/devel/sirex.lt/nikola/env/lib/python3.9/site-packages (from spacy<2.4.0,>=2.3.0->lt_core_news_md==2.3.0) (4.56.0)\r\n",
      "Requirement already satisfied: blis<0.8.0,>=0.4.0 in /home/sirex/devel/sirex.lt/nikola/env/lib/python3.9/site-packages (from spacy<2.4.0,>=2.3.0->lt_core_news_md==2.3.0) (0.7.4)\r\n",
      "Requirement already satisfied: chardet<5,>=3.0.2 in /home/sirex/devel/sirex.lt/nikola/env/lib/python3.9/site-packages (from requests<3.0.0,>=2.13.0->spacy<2.4.0,>=2.3.0->lt_core_news_md==2.3.0) (3.0.4)\r\n",
      "Requirement already satisfied: urllib3<1.27,>=1.21.1 in /home/sirex/devel/sirex.lt/nikola/env/lib/python3.9/site-packages (from requests<3.0.0,>=2.13.0->spacy<2.4.0,>=2.3.0->lt_core_news_md==2.3.0) (1.26.2)\r\n",
      "Requirement already satisfied: certifi>=2017.4.17 in /home/sirex/devel/sirex.lt/nikola/env/lib/python3.9/site-packages (from requests<3.0.0,>=2.13.0->spacy<2.4.0,>=2.3.0->lt_core_news_md==2.3.0) (2020.12.5)\r\n",
      "Requirement already satisfied: idna<3,>=2.5 in /home/sirex/devel/sirex.lt/nikola/env/lib/python3.9/site-packages (from requests<3.0.0,>=2.13.0->spacy<2.4.0,>=2.3.0->lt_core_news_md==2.3.0) (2.10)\r\n",
      "Using legacy 'setup.py install' for lt-core-news-md, since package 'wheel' is not installed.\r\n",
      "Installing collected packages: lt-core-news-md\r\n",
      "    Running setup.py install for lt-core-news-md ... \u001B[?25l-\b \b\\\b \bdone\r\n",
      "\u001B[?25hSuccessfully installed lt-core-news-md-2.3.0\r\n",
      "\u001B[33mWARNING: You are using pip version 20.2.3; however, version 20.3.3 is available.\r\n",
      "You should consider upgrading via the '/home/sirex/devel/sirex.lt/nikola/env/bin/python -m pip install --upgrade pip' command.\u001B[0m\r\n",
      "\u001B[38;5;2m✔ Download and installation successful\u001B[0m\r\n",
      "You can now load the model via spacy.load('lt_core_news_md')\r\n"
     ]
    }
   ],
   "source": [
    "!python -m spacy download lt_core_news_md"
   ],
   "metadata": {
    "collapsed": false,
    "pycharm": {
     "name": "#%%\n"
    }
   }
  },
  {
   "cell_type": "code",
   "execution_count": 12,
   "outputs": [],
   "source": [
    "import spacy\n",
    "\n",
    "nlp = spacy.load('lt_core_news_md')"
   ],
   "metadata": {
    "collapsed": false,
    "pycharm": {
     "name": "#%%\n"
    }
   }
  },
  {
   "cell_type": "code",
   "execution_count": 13,
   "outputs": [],
   "source": [
    "doc = nlp('Bandymas')"
   ],
   "metadata": {
    "collapsed": false,
    "pycharm": {
     "name": "#%%\n"
    }
   }
  },
  {
   "cell_type": "code",
   "execution_count": 14,
   "outputs": [
    {
     "data": {
      "text/plain": "[Bandymas]"
     },
     "execution_count": 14,
     "metadata": {},
     "output_type": "execute_result"
    }
   ],
   "source": [
    "list(doc)"
   ],
   "metadata": {
    "collapsed": false,
    "pycharm": {
     "name": "#%%\n"
    }
   }
  },
  {
   "cell_type": "code",
   "execution_count": 29,
   "outputs": [
    {
     "data": {
      "text/plain": "'PERSON'"
     },
     "execution_count": 29,
     "metadata": {},
     "output_type": "execute_result"
    }
   ],
   "source": [
    "nlp('Mantas Zimnickas').ents[0].label_"
   ],
   "metadata": {
    "collapsed": false,
    "pycharm": {
     "name": "#%%\n"
    }
   }
  },
  {
   "cell_type": "code",
   "execution_count": 35,
   "outputs": [],
   "source": [
    "num_person = sum(sum(e.label_ == 'PERSON' for e in nlp(n).ents) for n in names)"
   ],
   "metadata": {
    "collapsed": false,
    "pycharm": {
     "name": "#%%\n"
    }
   }
  },
  {
   "cell_type": "code",
   "execution_count": 36,
   "outputs": [
    {
     "data": {
      "text/plain": "0.4804444110802492"
     },
     "execution_count": 36,
     "metadata": {},
     "output_type": "execute_result"
    }
   ],
   "source": [
    "num_person / len(names) * 100\n"
   ],
   "metadata": {
    "collapsed": false,
    "pycharm": {
     "name": "#%%\n"
    }
   }
  },
  {
   "cell_type": "code",
   "execution_count": null,
   "outputs": [],
   "source": [],
   "metadata": {
    "collapsed": false,
    "pycharm": {
     "name": "#%%\n"
    }
   }
  }
 ],
 "metadata": {
  "kernelspec": {
   "display_name": "Python 3",
   "env": {},
   "interrupt_mode": "signal",
   "language": "python",
   "metadata": {},
   "name": "python3"
  },
  "nikola": {
   "category": "",
   "date": "2021-01-12 14:37:52 UTC+02:00",
   "description": "",
   "link": "",
   "slug": "name-detector",
   "tags": "",
   "title": "Name detector",
   "type": "text"
  }
 },
 "nbformat": 4,
 "nbformat_minor": 4
}