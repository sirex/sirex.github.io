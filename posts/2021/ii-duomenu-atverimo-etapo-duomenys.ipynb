{
 "cells": [
  {
   "cell_type": "markdown",
   "metadata": {},
   "source": []
  },
  {
   "cell_type": "code",
   "execution_count": 22,
   "outputs": [],
   "source": [
    "import chardet\n",
    "import pathlib\n",
    "import pandas as pd"
   ],
   "metadata": {
    "collapsed": false,
    "pycharm": {
     "name": "#%%\n"
    }
   }
  },
  {
   "cell_type": "code",
   "execution_count": 15,
   "outputs": [],
   "source": [
    "!mkdir /tmp/da2etapas"
   ],
   "metadata": {
    "collapsed": false,
    "pycharm": {
     "name": "#%%\n"
    }
   }
  },
  {
   "cell_type": "code",
   "execution_count": 16,
   "outputs": [],
   "source": [
    "!unzip -q ~/Downloads/OneDrive_2021-01-08.zip -d /tmp/da2etapas"
   ],
   "metadata": {
    "collapsed": false,
    "pycharm": {
     "name": "#%%\n"
    }
   }
  },
  {
   "cell_type": "code",
   "execution_count": 18,
   "outputs": [],
   "source": [
    "path = pathlib.Path('/tmp/da2etapas')"
   ],
   "metadata": {
    "collapsed": false,
    "pycharm": {
     "name": "#%%\n"
    }
   }
  },
  {
   "cell_type": "code",
   "execution_count": 37,
   "outputs": [
    {
     "data": {
      "text/plain": "{'encoding': 'ISO-8859-1', 'confidence': 0.7278119627980782, 'language': ''}"
     },
     "execution_count": 37,
     "metadata": {},
     "output_type": "execute_result"
    }
   ],
   "source": [
    "chardet.detect(b'\\n'.join([bytes(p) for p in path.glob('**/*')]))"
   ],
   "metadata": {
    "collapsed": false,
    "pycharm": {
     "name": "#%%\n"
    }
   }
  },
  {
   "cell_type": "code",
   "execution_count": 78,
   "outputs": [],
   "source": [
    "def fix_filename_encoding(p: pathlib.Path) -> pathlib.Path:\n",
    "    return pathlib.Path(\n",
    "        bytes(p).\n",
    "        decode('ISO-8859-1').\n",
    "        replace('+¦', 'ų').\n",
    "        replace('-ù', 'ė').\n",
    "        replace('+¥', 'ž').\n",
    "        replace('+í', 'š').\n",
    "        replace('-Ö', 'ę').\n",
    "        replace('-à', 'ą').\n",
    "        replace('-»', 'į').\n",
    "        replace('-«', 'Į')\n",
    "    )\n"
   ],
   "metadata": {
    "collapsed": false,
    "pycharm": {
     "name": "#%%\n"
    }
   }
  },
  {
   "cell_type": "code",
   "execution_count": 79,
   "outputs": [],
   "source": [
    "docs = [fix_filename_encoding(p) for p in path.glob('**/*')]"
   ],
   "metadata": {
    "collapsed": false,
    "pycharm": {
     "name": "#%%\n"
    }
   }
  },
  {
   "cell_type": "code",
   "execution_count": 80,
   "outputs": [],
   "source": [
    "docs = pd.DataFrame({\n",
    "    'path': [str(p) for p in docs],\n",
    "    'ext': [p.suffix for p in docs],\n",
    "    'name': [p.name for p in docs],\n",
    "})"
   ],
   "metadata": {
    "collapsed": false,
    "pycharm": {
     "name": "#%%\n"
    }
   }
  },
  {
   "cell_type": "code",
   "execution_count": 81,
   "outputs": [
    {
     "data": {
      "text/plain": "                                                              205\n.docx                                                          88\n.)                                                             84\n.xlsx                                                          84\n.adoc                                                          42\n.pdf                                                           39\n. Partnerystės sutartis                                         9\n.odt                                                            7\n. Projekto veiklų grafikas ir finansinis planas                 7\n. Projekto veiklu grafikas ir finansinis planas                 5\n. Įdarbinimo dokumentai(įsakymai,darbo sutartys,kt)             5\n. Mokėjimo prašymų dokumentai (DU dokumentai,sąskaitos,kt)      3\n. Partnerystes sutartis                                         2\n. JVS                                                           1\n. Mokejimo prasymu dokumentai (DU dokumentai,sąskaitos,kt)      1\n.Projekto veiklų grafikas ir finansinis planas                  1\n.odg                                                            1\n. Mokejimo prasymų dokumentai                                   1\n.Partnerystes sutartis                                          1\n.xlsm                                                           1\nName: ext, dtype: int64"
     },
     "execution_count": 81,
     "metadata": {},
     "output_type": "execute_result"
    }
   ],
   "source": [
    "docs['ext'].value_counts()"
   ],
   "metadata": {
    "collapsed": false,
    "pycharm": {
     "name": "#%%\n"
    }
   }
  },
  {
   "cell_type": "code",
   "execution_count": 83,
   "outputs": [
    {
     "data": {
      "text/plain": "MP23 (2021 05 21)                                                         40\nMP22 (2021 02 12)                                                         40\nPartnerystės sutartis                                                     34\nĮdarbinimo dokumentai (įsakymai, darbo sutartys, potvarkiai ir kt.)       32\nMokėjimo prašymų dokumentai (DU dokumentai, sąskaitos, aktai, kt.)        32\n1. Partnerystės sutartis                                                   9\n2. Projekto veiklų grafikas ir finansinis planas                           7\n3. Įdarbinimo dokumentai (įsakymai, darbo sutartys, potvarkiai ir kt.)     6\nArchyvas                                                                   6\n2. Projekto veiklu grafikas ir finansinis planas                           5\nName: name, dtype: int64"
     },
     "execution_count": 83,
     "metadata": {},
     "output_type": "execute_result"
    }
   ],
   "source": [
    "docs['name'].value_counts().head(10)\n"
   ],
   "metadata": {
    "collapsed": false,
    "pycharm": {
     "name": "#%%\n"
    }
   }
  }
 ],
 "metadata": {
  "kernelspec": {
   "display_name": "Python 3",
   "env": {},
   "interrupt_mode": "signal",
   "language": "python",
   "metadata": {},
   "name": "python3"
  },
  "nikola": {
   "category": "",
   "date": "2021-01-08 10:46:27 UTC+02:00",
   "description": "",
   "link": "",
   "slug": "ii-duomenu-atverimo-etapo-duomenys",
   "tags": "",
   "title": "II duomenų atvėrimo etapo duomenys",
   "type": "text"
  }
 },
 "nbformat": 4,
 "nbformat_minor": 4
}